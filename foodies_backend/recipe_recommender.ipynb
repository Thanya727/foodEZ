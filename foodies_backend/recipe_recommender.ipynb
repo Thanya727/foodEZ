{
 "cells": [
  {
   "cell_type": "code",
   "execution_count": 2,
   "metadata": {},
   "outputs": [
    {
     "data": {
      "text/plain": [
       "'1.0.2'"
      ]
     },
     "execution_count": 2,
     "metadata": {},
     "output_type": "execute_result"
    }
   ],
   "source": [
    "import pandas as pd\n",
    "import numpy as np\n",
    "pd.__version__"
   ]
  },
  {
   "cell_type": "code",
   "execution_count": 3,
   "metadata": {},
   "outputs": [],
   "source": [
    "pd.set_option('display.max_colwidth', None)"
   ]
  },
  {
   "cell_type": "code",
   "execution_count": 4,
   "metadata": {},
   "outputs": [],
   "source": [
    "recipes_df = pd.read_csv('csv_data/rr-recipes.csv')"
   ]
  },
  {
   "cell_type": "code",
   "execution_count": null,
   "metadata": {},
   "outputs": [],
   "source": [
    "ingredients_input_list = input('comma sepersted values of ingredients: ')\n",
    "ingredients_input_list = ingredients_input_list.split(',')"
   ]
  },
  {
   "cell_type": "code",
   "execution_count": null,
   "metadata": {},
   "outputs": [],
   "source": [
    "ingredients_input_list"
   ]
  },
  {
   "cell_type": "code",
   "execution_count": null,
   "metadata": {},
   "outputs": [],
   "source": [
    "recipes_df.head()"
   ]
  },
  {
   "cell_type": "code",
   "execution_count": 7,
   "metadata": {},
   "outputs": [],
   "source": [
    "suggestions = recipes_df[recipes_df['ingredients'].apply(lambda x: any([k in x for k in ingredients_input_list]))].head(10)"
   ]
  },
  {
   "cell_type": "code",
   "execution_count": 8,
   "metadata": {},
   "outputs": [
    {
     "data": {
      "text/html": [
       "<div>\n",
       "<style scoped>\n",
       "    .dataframe tbody tr th:only-of-type {\n",
       "        vertical-align: middle;\n",
       "    }\n",
       "\n",
       "    .dataframe tbody tr th {\n",
       "        vertical-align: top;\n",
       "    }\n",
       "\n",
       "    .dataframe thead th {\n",
       "        text-align: right;\n",
       "    }\n",
       "</style>\n",
       "<table border=\"1\" class=\"dataframe\">\n",
       "  <thead>\n",
       "    <tr style=\"text-align: right;\">\n",
       "      <th></th>\n",
       "      <th>recipe_id</th>\n",
       "      <th>title</th>\n",
       "      <th>prep_time</th>\n",
       "      <th>cook_time</th>\n",
       "      <th>ready_time</th>\n",
       "      <th>ingredients</th>\n",
       "      <th>directions</th>\n",
       "      <th>url</th>\n",
       "      <th>photo_url</th>\n",
       "    </tr>\n",
       "  </thead>\n",
       "  <tbody>\n",
       "    <tr>\n",
       "      <th>57</th>\n",
       "      <td>7081</td>\n",
       "      <td>Tomato Basil Sherry Bread Recipe</td>\n",
       "      <td>5</td>\n",
       "      <td>180</td>\n",
       "      <td>185</td>\n",
       "      <td>tomato,sherry,salt,bread,vegetable oil,basil,yeast,tomato</td>\n",
       "      <td>'Place all ingredients in the bread machine in order suggested by your manufacturer (except for the sun dried tomatoes).**Select regular setting, medium crust. At the beep or according to your manufacturer''s suggestion add the sun dried tomatoes.**Remove immediately at end of baking cycle. Let cool and slice, spread with your favorite topping.**'</td>\n",
       "      <td>https://www.allrecipes.com/recipe/7081</td>\n",
       "      <td>https://images.media-allrecipes.com/userphotos/250x250/16277.jpg</td>\n",
       "    </tr>\n",
       "    <tr>\n",
       "      <th>432</th>\n",
       "      <td>7583</td>\n",
       "      <td>Tomato Soup Cake I Recipe</td>\n",
       "      <td>28</td>\n",
       "      <td>0</td>\n",
       "      <td>0</td>\n",
       "      <td>tomato,baking soda,white sugar,egg,butter,salt,cinnamon,clove,flour,raisin</td>\n",
       "      <td>Combine the tomato soup and the soda in a bowl, and let it stand.**Cream sugar, egg, butter, salt, cinnamon, and cloves.  Mix in tomato soup and soda mixture, and then flour.  Stir in the raisins, and pour the batter in a greased baking dish.**Bake at 325 degrees F (165 degrees C) for 1 hour, or until done.  Cool the cake, and top with cream cheese icing.**</td>\n",
       "      <td>https://www.allrecipes.com/recipe/7583</td>\n",
       "      <td>https://images.media-allrecipes.com/userphotos/560x315/7956.jpg</td>\n",
       "    </tr>\n",
       "    <tr>\n",
       "      <th>459</th>\n",
       "      <td>7618</td>\n",
       "      <td>Very Special Tomato Spice Cake Recipe</td>\n",
       "      <td>12</td>\n",
       "      <td>0</td>\n",
       "      <td>0</td>\n",
       "      <td>flour,white sugar,baking powder,cinnamon,nutmeg,clove,spice,salt,tomato sauce,baking soda,egg,vegetable oil,walnut,raisin,orange juice,sugar</td>\n",
       "      <td>'In a small bowl, thoroughly mix the tomato sauce and soda.**In a mixing bowl, combine flour, sugar, baking powder, spices and salt.  Mix in tomato sauce and soda mixture.  Stir in eggs, oil, nuts, raisins and fruit juice.  Mix well.  Pour batter into greased 10 inch bundt or tube pan.**Bake at 350 degrees F (175 degrees C) for 45 to 55 minutes.  Cool cake in pan for 15 minutes, and then turn out on serving plate.  Dust top with confectioners'' sugar.**'</td>\n",
       "      <td>https://www.allrecipes.com/recipe/7618</td>\n",
       "      <td>https://images.media-allrecipes.com/userphotos/250x250/500479.jpg</td>\n",
       "    </tr>\n",
       "    <tr>\n",
       "      <th>731</th>\n",
       "      <td>8036</td>\n",
       "      <td>Eggless, Milkless, Butterless Cake III Recipe</td>\n",
       "      <td>12</td>\n",
       "      <td>0</td>\n",
       "      <td>0</td>\n",
       "      <td>white sugar,shortening,cinnamon,nutmeg,spice,salt,tomato,raisin,water,baking soda,flour,baking powder</td>\n",
       "      <td>Preheat oven to 350 degrees F (175 degrees C).  Lightly grease an 8 inch square pan.**In a large bowl, combine sugar, shortening, spices, salt, soup, and raisins.  Stir in boiling water.  Cool.**Sift the flour, baking powder, and baking soda together.  Add to the cooled raisin mixture, and stir until just combined.  Pour batter into prepared pan.**Bake for 20 to 25 minutes. Serve warm.**</td>\n",
       "      <td>https://www.allrecipes.com/recipe/8036</td>\n",
       "      <td>https://images.media-allrecipes.com/images/79591.png</td>\n",
       "    </tr>\n",
       "    <tr>\n",
       "      <th>1067</th>\n",
       "      <td>8438</td>\n",
       "      <td>'Darling Husbands'' Cake Recipe '</td>\n",
       "      <td>12</td>\n",
       "      <td>0</td>\n",
       "      <td>0</td>\n",
       "      <td>butter,white sugar,egg,flour,salt,baking powder,walnut,baking soda,cinnamon,spice,nutmeg,tomato,raisin</td>\n",
       "      <td>'Preheat oven to 350 degrees F (175 degrees C). Grease and flour a 9 inch square pan. Sift together flour, salt, baking powder, baking soda, cinnamon, allspice and nutmeg. Set aside.**Cream butter until it is soft and creamy. Add sugar and continue beating until light and fluffy. Add egg and beat well.**Add flour mixture and tomato soup. mix gently until blended, but don''t overmix. Fold in nuts and raisins.**Spread batter into a 9 inch square pan. Bake at 350 degrees F (175 degrees C) for 55 to 60 minutes, or until toothpick inserted into cake comes out clean.**'</td>\n",
       "      <td>https://www.allrecipes.com/recipe/8438</td>\n",
       "      <td>https://images.media-allrecipes.com/images/79591.png</td>\n",
       "    </tr>\n",
       "    <tr>\n",
       "      <th>1132</th>\n",
       "      <td>8511</td>\n",
       "      <td>Jazzy New Orleans Chicken Recipe</td>\n",
       "      <td>0</td>\n",
       "      <td>25</td>\n",
       "      <td>45</td>\n",
       "      <td>chicken,flour,vegetable oil,sausage,garlic,onion,bell pepper,tomato,brown sugar,thyme,oregano,salt,spice,grains,chicken,parsley,lemon</td>\n",
       "      <td>Dredge chicken in flour, turning to coat all over.**In large saucepan or Dutch oven, heat oil over medium heat.  Brown chicken pieces about 8 minutes per side.  Transfer to plate.**Combine sausage, garlic, onion, peppers, tomatoes, sugar, thyme, oregano, salt, and allspice in the pan.  Cook over medium heat, stirring occasionally, for 10 minutes or until peppers are softened.**Stir in rice, and add stock.  Nestle chicken into rice.  Bring to a boil.  Reduce heat, and cover.  Cook for 20 to 25 minutes, or until liquid is absorbed and juices run clear when chicken is pierced. Serve sprinkled with parsley.  Garnish with lemon slices if you like.**</td>\n",
       "      <td>https://www.allrecipes.com/recipe/8511</td>\n",
       "      <td>https://images.media-allrecipes.com/userphotos/250x250/227714.jpg</td>\n",
       "    </tr>\n",
       "    <tr>\n",
       "      <th>1134</th>\n",
       "      <td>8513</td>\n",
       "      <td>Gypsy Chicken Stew Recipe</td>\n",
       "      <td>10</td>\n",
       "      <td>90</td>\n",
       "      <td>100</td>\n",
       "      <td>chicken,sherry,chicken,garlic,onion,chile pepper,tomato,salt,monterey jack,vegetable oil</td>\n",
       "      <td>In a large, stewing pot, place whole chicken, 1 1/2 cup sherry, stock, garlic, and onions. Simmer for 1 hour.**Meanwhile, place green chilies in a roasting pan, and drizzle with 1 tablespoon oil.  Bake at 375 degrees F (190 degrees C) until skins begin to blacken.  Peel and seed the peppers.**Remove chicken from pot, and set aside to cool.  Add green chilies and tomatoes to simmering stock.**When chicken is cool enough to touch, remove the meat from the bones.  Return meat to pot.  Also, add 1 cup more sherry, and salt to taste.  Simmer at least 30 minutes more.   Serve with a little shredded cheese on top.**</td>\n",
       "      <td>https://www.allrecipes.com/recipe/8513</td>\n",
       "      <td>https://images.media-allrecipes.com/userphotos/560x315/1795992.jpg</td>\n",
       "    </tr>\n",
       "    <tr>\n",
       "      <th>1136</th>\n",
       "      <td>8515</td>\n",
       "      <td>Chicken Curry I Recipe</td>\n",
       "      <td>0</td>\n",
       "      <td>20</td>\n",
       "      <td>30</td>\n",
       "      <td>chicken,onion,cinnamon,bay leaf,garlic,ginger,paprika,curry,white sugar,lemon juice,pepper,tomato,salt,olive,water</td>\n",
       "      <td>Fry the onions in olive oil until browned. Add the cinnamon and the bay leaf. Continue stirring and add the ginger, paprika, curry powder, sugar, salt, and garlic. Continue stirring for 2 minutes.  Mixture will become much like a paste.**Add chicken pieces and tomato. Add enough water to just cover the chicken.  Simmer until chicken is done, about 20 minutes.**Just before serving, add the lemon juice and the cayenne pepper.  Simmer for 5 more minutes.**</td>\n",
       "      <td>https://www.allrecipes.com/recipe/8515</td>\n",
       "      <td>https://images.media-allrecipes.com/userphotos/250x250/14662.jpg</td>\n",
       "    </tr>\n",
       "    <tr>\n",
       "      <th>1143</th>\n",
       "      <td>8523</td>\n",
       "      <td>Chicken and Summer Squash Recipe</td>\n",
       "      <td>0</td>\n",
       "      <td>15</td>\n",
       "      <td>30</td>\n",
       "      <td>chicken,salt,black pepper,butter,vegetable oil,yellow squash,zucchini,tomato</td>\n",
       "      <td>In a large nonstick skillet, melt butter in the oil over medium high heat. Season chicken with half of the salt and half of the pepper, and add it to skillet.   Cook until lightly browned, about 2 minutes per side.  Transfer to large plate or platter, and cover to keep warm.**Pour off fat from skillet, and add squash, zucchini, and tomato.  Season with  remaining salt and pepper.  Cook and stir over medium-high heat until squash is slightly softened, about 3 minutes. Reduce heat, and return chicken to skillet.  Cover partially.  Cook until squash is soft, and chicken is white throughout but still juicy, about 5 minutes longer.**Transfer chicken to platter, and cover with foil to keep warm.  Raise heat to high.  Cook vegetable mixture, stirring often, until almost all of the liquid has evaporated, about 2 minutes. Arrange vegetables around chicken, and serve.**</td>\n",
       "      <td>https://www.allrecipes.com/recipe/8523</td>\n",
       "      <td>https://images.media-allrecipes.com/userphotos/250x250/989385.jpg</td>\n",
       "    </tr>\n",
       "    <tr>\n",
       "      <th>1161</th>\n",
       "      <td>8550</td>\n",
       "      <td>Sweet And Sour Chicken Meatballs Recipe</td>\n",
       "      <td>0</td>\n",
       "      <td>0</td>\n",
       "      <td>0</td>\n",
       "      <td>olive,onion,bell pepper,carrot,chicken broth,tomato sauce,brown sugar,vinegar,pineapple,ketchup,bread,milk,chicken,zucchini,egg,salt,black pepper,garlic,rice</td>\n",
       "      <td>Heat oil in a large skillet.  Add onion, green pepper, and carrot.  Cook for 5 minutes, until onion is softened.  Stir in broth, tomato sauce, brown sugar, white vinegar, pineapple with juice, and ketchup.  Simmer for 10 minutes, or until vegetables are tender.**Meanwhile, soak bread in milk in a large bowl until milk is absorbed.  Mix together with ground chicken, shredded zucchini, egg, salt, black pepper, and garlic powder.  Shape into 12 meatballs, about 2 tablespoons each.**Drop meatballs into simmering sauce. Cook 15 minutes, or until cooked through, turn over once during cooking.**Remove skillet from heat. Stir in rice. Cover, and let stand 5 minutes. Fluff rice with fork before serving.**</td>\n",
       "      <td>https://www.allrecipes.com/recipe/8550</td>\n",
       "      <td>https://images.media-allrecipes.com/userphotos/560x315/15408.jpg</td>\n",
       "    </tr>\n",
       "  </tbody>\n",
       "</table>\n",
       "</div>"
      ],
      "text/plain": [
       "      recipe_id                                           title  prep_time  \\\n",
       "57         7081                Tomato Basil Sherry Bread Recipe          5   \n",
       "432        7583                       Tomato Soup Cake I Recipe         28   \n",
       "459        7618           Very Special Tomato Spice Cake Recipe         12   \n",
       "731        8036  Eggless, Milkless, Butterless Cake III Recipe          12   \n",
       "1067       8438               'Darling Husbands'' Cake Recipe '         12   \n",
       "1132       8511                Jazzy New Orleans Chicken Recipe          0   \n",
       "1134       8513                       Gypsy Chicken Stew Recipe         10   \n",
       "1136       8515                          Chicken Curry I Recipe          0   \n",
       "1143       8523                Chicken and Summer Squash Recipe          0   \n",
       "1161       8550         Sweet And Sour Chicken Meatballs Recipe          0   \n",
       "\n",
       "      cook_time  ready_time  \\\n",
       "57          180         185   \n",
       "432           0           0   \n",
       "459           0           0   \n",
       "731           0           0   \n",
       "1067          0           0   \n",
       "1132         25          45   \n",
       "1134         90         100   \n",
       "1136         20          30   \n",
       "1143         15          30   \n",
       "1161          0           0   \n",
       "\n",
       "                                                                                                                                                        ingredients  \\\n",
       "57                                                                                                        tomato,sherry,salt,bread,vegetable oil,basil,yeast,tomato   \n",
       "432                                                                                      tomato,baking soda,white sugar,egg,butter,salt,cinnamon,clove,flour,raisin   \n",
       "459                    flour,white sugar,baking powder,cinnamon,nutmeg,clove,spice,salt,tomato sauce,baking soda,egg,vegetable oil,walnut,raisin,orange juice,sugar   \n",
       "731                                                           white sugar,shortening,cinnamon,nutmeg,spice,salt,tomato,raisin,water,baking soda,flour,baking powder   \n",
       "1067                                                         butter,white sugar,egg,flour,salt,baking powder,walnut,baking soda,cinnamon,spice,nutmeg,tomato,raisin   \n",
       "1132                          chicken,flour,vegetable oil,sausage,garlic,onion,bell pepper,tomato,brown sugar,thyme,oregano,salt,spice,grains,chicken,parsley,lemon   \n",
       "1134                                                                       chicken,sherry,chicken,garlic,onion,chile pepper,tomato,salt,monterey jack,vegetable oil   \n",
       "1136                                             chicken,onion,cinnamon,bay leaf,garlic,ginger,paprika,curry,white sugar,lemon juice,pepper,tomato,salt,olive,water   \n",
       "1143                                                                                   chicken,salt,black pepper,butter,vegetable oil,yellow squash,zucchini,tomato   \n",
       "1161  olive,onion,bell pepper,carrot,chicken broth,tomato sauce,brown sugar,vinegar,pineapple,ketchup,bread,milk,chicken,zucchini,egg,salt,black pepper,garlic,rice   \n",
       "\n",
       "                                                                                                                                                                                                                                                                                                                                                                                                                                                                                                                                                                                                                                                                                                                                                                                                                                                                                                    directions  \\\n",
       "57                                                                                                                                                                                                                                                                                                                                                                                                                                                                                                                                               'Place all ingredients in the bread machine in order suggested by your manufacturer (except for the sun dried tomatoes).**Select regular setting, medium crust. At the beep or according to your manufacturer''s suggestion add the sun dried tomatoes.**Remove immediately at end of baking cycle. Let cool and slice, spread with your favorite topping.**'   \n",
       "432                                                                                                                                                                                                                                                                                                                                                                                                                                                                                                                                    Combine the tomato soup and the soda in a bowl, and let it stand.**Cream sugar, egg, butter, salt, cinnamon, and cloves.  Mix in tomato soup and soda mixture, and then flour.  Stir in the raisins, and pour the batter in a greased baking dish.**Bake at 325 degrees F (165 degrees C) for 1 hour, or until done.  Cool the cake, and top with cream cheese icing.**   \n",
       "459                                                                                                                                                                                                                                                                                                                                                                                                                                 'In a small bowl, thoroughly mix the tomato sauce and soda.**In a mixing bowl, combine flour, sugar, baking powder, spices and salt.  Mix in tomato sauce and soda mixture.  Stir in eggs, oil, nuts, raisins and fruit juice.  Mix well.  Pour batter into greased 10 inch bundt or tube pan.**Bake at 350 degrees F (175 degrees C) for 45 to 55 minutes.  Cool cake in pan for 15 minutes, and then turn out on serving plate.  Dust top with confectioners'' sugar.**'   \n",
       "731                                                                                                                                                                                                                                                                                                                                                                                                                                                                                                     Preheat oven to 350 degrees F (175 degrees C).  Lightly grease an 8 inch square pan.**In a large bowl, combine sugar, shortening, spices, salt, soup, and raisins.  Stir in boiling water.  Cool.**Sift the flour, baking powder, and baking soda together.  Add to the cooled raisin mixture, and stir until just combined.  Pour batter into prepared pan.**Bake for 20 to 25 minutes. Serve warm.**   \n",
       "1067                                                                                                                                                                                                                                                                                                                'Preheat oven to 350 degrees F (175 degrees C). Grease and flour a 9 inch square pan. Sift together flour, salt, baking powder, baking soda, cinnamon, allspice and nutmeg. Set aside.**Cream butter until it is soft and creamy. Add sugar and continue beating until light and fluffy. Add egg and beat well.**Add flour mixture and tomato soup. mix gently until blended, but don''t overmix. Fold in nuts and raisins.**Spread batter into a 9 inch square pan. Bake at 350 degrees F (175 degrees C) for 55 to 60 minutes, or until toothpick inserted into cake comes out clean.**'   \n",
       "1132                                                                                                                                                                                                                              Dredge chicken in flour, turning to coat all over.**In large saucepan or Dutch oven, heat oil over medium heat.  Brown chicken pieces about 8 minutes per side.  Transfer to plate.**Combine sausage, garlic, onion, peppers, tomatoes, sugar, thyme, oregano, salt, and allspice in the pan.  Cook over medium heat, stirring occasionally, for 10 minutes or until peppers are softened.**Stir in rice, and add stock.  Nestle chicken into rice.  Bring to a boil.  Reduce heat, and cover.  Cook for 20 to 25 minutes, or until liquid is absorbed and juices run clear when chicken is pierced. Serve sprinkled with parsley.  Garnish with lemon slices if you like.**   \n",
       "1134                                                                                                                                                                                                                                                                  In a large, stewing pot, place whole chicken, 1 1/2 cup sherry, stock, garlic, and onions. Simmer for 1 hour.**Meanwhile, place green chilies in a roasting pan, and drizzle with 1 tablespoon oil.  Bake at 375 degrees F (190 degrees C) until skins begin to blacken.  Peel and seed the peppers.**Remove chicken from pot, and set aside to cool.  Add green chilies and tomatoes to simmering stock.**When chicken is cool enough to touch, remove the meat from the bones.  Return meat to pot.  Also, add 1 cup more sherry, and salt to taste.  Simmer at least 30 minutes more.   Serve with a little shredded cheese on top.**   \n",
       "1136                                                                                                                                                                                                                                                                                                                                                                                                                                 Fry the onions in olive oil until browned. Add the cinnamon and the bay leaf. Continue stirring and add the ginger, paprika, curry powder, sugar, salt, and garlic. Continue stirring for 2 minutes.  Mixture will become much like a paste.**Add chicken pieces and tomato. Add enough water to just cover the chicken.  Simmer until chicken is done, about 20 minutes.**Just before serving, add the lemon juice and the cayenne pepper.  Simmer for 5 more minutes.**   \n",
       "1143  In a large nonstick skillet, melt butter in the oil over medium high heat. Season chicken with half of the salt and half of the pepper, and add it to skillet.   Cook until lightly browned, about 2 minutes per side.  Transfer to large plate or platter, and cover to keep warm.**Pour off fat from skillet, and add squash, zucchini, and tomato.  Season with  remaining salt and pepper.  Cook and stir over medium-high heat until squash is slightly softened, about 3 minutes. Reduce heat, and return chicken to skillet.  Cover partially.  Cook until squash is soft, and chicken is white throughout but still juicy, about 5 minutes longer.**Transfer chicken to platter, and cover with foil to keep warm.  Raise heat to high.  Cook vegetable mixture, stirring often, until almost all of the liquid has evaporated, about 2 minutes. Arrange vegetables around chicken, and serve.**   \n",
       "1161                                                                                                                                                                         Heat oil in a large skillet.  Add onion, green pepper, and carrot.  Cook for 5 minutes, until onion is softened.  Stir in broth, tomato sauce, brown sugar, white vinegar, pineapple with juice, and ketchup.  Simmer for 10 minutes, or until vegetables are tender.**Meanwhile, soak bread in milk in a large bowl until milk is absorbed.  Mix together with ground chicken, shredded zucchini, egg, salt, black pepper, and garlic powder.  Shape into 12 meatballs, about 2 tablespoons each.**Drop meatballs into simmering sauce. Cook 15 minutes, or until cooked through, turn over once during cooking.**Remove skillet from heat. Stir in rice. Cover, and let stand 5 minutes. Fluff rice with fork before serving.**   \n",
       "\n",
       "                                         url  \\\n",
       "57    https://www.allrecipes.com/recipe/7081   \n",
       "432   https://www.allrecipes.com/recipe/7583   \n",
       "459   https://www.allrecipes.com/recipe/7618   \n",
       "731   https://www.allrecipes.com/recipe/8036   \n",
       "1067  https://www.allrecipes.com/recipe/8438   \n",
       "1132  https://www.allrecipes.com/recipe/8511   \n",
       "1134  https://www.allrecipes.com/recipe/8513   \n",
       "1136  https://www.allrecipes.com/recipe/8515   \n",
       "1143  https://www.allrecipes.com/recipe/8523   \n",
       "1161  https://www.allrecipes.com/recipe/8550   \n",
       "\n",
       "                                                               photo_url  \n",
       "57      https://images.media-allrecipes.com/userphotos/250x250/16277.jpg  \n",
       "432      https://images.media-allrecipes.com/userphotos/560x315/7956.jpg  \n",
       "459    https://images.media-allrecipes.com/userphotos/250x250/500479.jpg  \n",
       "731                 https://images.media-allrecipes.com/images/79591.png  \n",
       "1067                https://images.media-allrecipes.com/images/79591.png  \n",
       "1132   https://images.media-allrecipes.com/userphotos/250x250/227714.jpg  \n",
       "1134  https://images.media-allrecipes.com/userphotos/560x315/1795992.jpg  \n",
       "1136    https://images.media-allrecipes.com/userphotos/250x250/14662.jpg  \n",
       "1143   https://images.media-allrecipes.com/userphotos/250x250/989385.jpg  \n",
       "1161    https://images.media-allrecipes.com/userphotos/560x315/15408.jpg  "
      ]
     },
     "execution_count": 8,
     "metadata": {},
     "output_type": "execute_result"
    }
   ],
   "source": [
    "suggestions"
   ]
  },
  {
   "cell_type": "code",
   "execution_count": 17,
   "metadata": {},
   "outputs": [
    {
     "name": "stdin",
     "output_type": "stream",
     "text": [
      "Which recipe would you like to try? 8438\n"
     ]
    }
   ],
   "source": [
    "recipe_choice = input(\"Which recipe would you like to try?\")"
   ]
  },
  {
   "cell_type": "code",
   "execution_count": 18,
   "metadata": {},
   "outputs": [],
   "source": [
    "all_ing = recipes_df.loc[recipes_df['title']==recipe_choice]['ingredients']\n",
    "all_ing = all_ing.tolist()\n",
    "for i in all_ing:\n",
    "    ing = i.split(',')"
   ]
  },
  {
   "cell_type": "code",
   "execution_count": 19,
   "metadata": {},
   "outputs": [
    {
     "data": {
      "text/html": [
       "<div>\n",
       "<style scoped>\n",
       "    .dataframe tbody tr th:only-of-type {\n",
       "        vertical-align: middle;\n",
       "    }\n",
       "\n",
       "    .dataframe tbody tr th {\n",
       "        vertical-align: top;\n",
       "    }\n",
       "\n",
       "    .dataframe thead th {\n",
       "        text-align: right;\n",
       "    }\n",
       "</style>\n",
       "<table border=\"1\" class=\"dataframe\">\n",
       "  <thead>\n",
       "    <tr style=\"text-align: right;\">\n",
       "      <th></th>\n",
       "      <th>recipe_id</th>\n",
       "      <th>title</th>\n",
       "      <th>prep_time</th>\n",
       "      <th>cook_time</th>\n",
       "      <th>ready_time</th>\n",
       "      <th>ingredients</th>\n",
       "      <th>directions</th>\n",
       "      <th>url</th>\n",
       "      <th>photo_url</th>\n",
       "    </tr>\n",
       "  </thead>\n",
       "  <tbody>\n",
       "  </tbody>\n",
       "</table>\n",
       "</div>"
      ],
      "text/plain": [
       "Empty DataFrame\n",
       "Columns: [recipe_id, title, prep_time, cook_time, ready_time, ingredients, directions, url, photo_url]\n",
       "Index: []"
      ]
     },
     "execution_count": 19,
     "metadata": {},
     "output_type": "execute_result"
    }
   ],
   "source": [
    "recipes_df.loc[recipes_df['title']==recipe_choice]"
   ]
  },
  {
   "cell_type": "code",
   "execution_count": 16,
   "metadata": {},
   "outputs": [
    {
     "name": "stdout",
     "output_type": "stream",
     "text": [
      "The ingredients you need to order are\n"
     ]
    },
    {
     "ename": "NameError",
     "evalue": "name 'ing' is not defined",
     "output_type": "error",
     "traceback": [
      "\u001b[1;31m---------------------------------------------------------------------------\u001b[0m",
      "\u001b[1;31mNameError\u001b[0m                                 Traceback (most recent call last)",
      "\u001b[1;32m<ipython-input-16-6144f139b372>\u001b[0m in \u001b[0;36m<module>\u001b[1;34m\u001b[0m\n\u001b[0;32m      1\u001b[0m \u001b[0mprint\u001b[0m\u001b[1;33m(\u001b[0m\u001b[1;34m'The ingredients you need to order are'\u001b[0m\u001b[1;33m)\u001b[0m\u001b[1;33m\u001b[0m\u001b[1;33m\u001b[0m\u001b[0m\n\u001b[0;32m      2\u001b[0m \u001b[0mextra\u001b[0m \u001b[1;33m=\u001b[0m \u001b[0mlist\u001b[0m\u001b[1;33m(\u001b[0m\u001b[1;33m)\u001b[0m\u001b[1;33m\u001b[0m\u001b[1;33m\u001b[0m\u001b[0m\n\u001b[1;32m----> 3\u001b[1;33m \u001b[1;32mfor\u001b[0m \u001b[0mingredient\u001b[0m \u001b[1;32min\u001b[0m \u001b[0ming\u001b[0m\u001b[1;33m:\u001b[0m\u001b[1;33m\u001b[0m\u001b[1;33m\u001b[0m\u001b[0m\n\u001b[0m\u001b[0;32m      4\u001b[0m     \u001b[1;32mif\u001b[0m \u001b[0mingredient\u001b[0m \u001b[1;32min\u001b[0m \u001b[0mingredients_input_list\u001b[0m\u001b[1;33m:\u001b[0m\u001b[1;33m\u001b[0m\u001b[1;33m\u001b[0m\u001b[0m\n\u001b[0;32m      5\u001b[0m         \u001b[1;32mcontinue\u001b[0m\u001b[1;33m\u001b[0m\u001b[1;33m\u001b[0m\u001b[0m\n",
      "\u001b[1;31mNameError\u001b[0m: name 'ing' is not defined"
     ]
    }
   ],
   "source": [
    "print('The ingredients you need to order are')\n",
    "extra = list()\n",
    "for ingredient in ing:\n",
    "    if ingredient in ingredients_input_list:\n",
    "        continue\n",
    "    else:\n",
    "        print(ingredient)"
   ]
  },
  {
   "cell_type": "code",
   "execution_count": null,
   "metadata": {},
   "outputs": [],
   "source": []
  }
 ],
 "metadata": {
  "kernelspec": {
   "display_name": "Python 3",
   "language": "python",
   "name": "python3"
  },
  "language_info": {
   "codemirror_mode": {
    "name": "ipython",
    "version": 3
   },
   "file_extension": ".py",
   "mimetype": "text/x-python",
   "name": "python",
   "nbconvert_exporter": "python",
   "pygments_lexer": "ipython3",
   "version": "3.7.7"
  }
 },
 "nbformat": 4,
 "nbformat_minor": 4
}
